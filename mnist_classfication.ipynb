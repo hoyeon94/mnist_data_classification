{
  "nbformat": 4,
  "nbformat_minor": 0,
  "metadata": {
    "colab": {
      "name": "mnist_classfication.ipynb",
      "provenance": [],
      "collapsed_sections": []
    },
    "kernelspec": {
      "name": "python3",
      "display_name": "Python 3"
    },
    "accelerator": "GPU"
  },
  "cells": [
    {
      "cell_type": "code",
      "metadata": {
        "id": "dGsiXmxyRkEv",
        "colab_type": "code",
        "outputId": "436a32c5-082b-41c7-f329-43420e6cc3f9",
        "colab": {
          "base_uri": "https://localhost:8080/",
          "height": 470
        }
      },
      "source": [
        "import tensorflow as tf\n",
        "import numpy as np\n",
        "import matplotlib.pyplot as plt \n",
        "from tensorflow.examples.tutorials.mnist import input_data \n",
        "np.random.seed(20160612) \n",
        "tf.set_random_seed(20160612)\n",
        "#데이터 불러오기\n",
        "mnist = input_data.read_data_sets(\"/tmp/data/\", one_hot=True)\n"
      ],
      "execution_count": 1,
      "outputs": [
        {
          "output_type": "display_data",
          "data": {
            "text/html": [
              "<p style=\"color: red;\">\n",
              "The default version of TensorFlow in Colab will soon switch to TensorFlow 2.x.<br>\n",
              "We recommend you <a href=\"https://www.tensorflow.org/guide/migrate\" target=\"_blank\">upgrade</a> now \n",
              "or ensure your notebook will continue to use TensorFlow 1.x via the <code>%tensorflow_version 1.x</code> magic:\n",
              "<a href=\"https://colab.research.google.com/notebooks/tensorflow_version.ipynb\" target=\"_blank\">more info</a>.</p>\n"
            ],
            "text/plain": [
              "<IPython.core.display.HTML object>"
            ]
          },
          "metadata": {
            "tags": []
          }
        },
        {
          "output_type": "stream",
          "text": [
            "WARNING:tensorflow:From <ipython-input-1-70a72da9a578>:8: read_data_sets (from tensorflow.contrib.learn.python.learn.datasets.mnist) is deprecated and will be removed in a future version.\n",
            "Instructions for updating:\n",
            "Please use alternatives such as official/mnist/dataset.py from tensorflow/models.\n",
            "WARNING:tensorflow:From /usr/local/lib/python3.6/dist-packages/tensorflow_core/contrib/learn/python/learn/datasets/mnist.py:260: maybe_download (from tensorflow.contrib.learn.python.learn.datasets.base) is deprecated and will be removed in a future version.\n",
            "Instructions for updating:\n",
            "Please write your own downloading logic.\n",
            "WARNING:tensorflow:From /usr/local/lib/python3.6/dist-packages/tensorflow_core/contrib/learn/python/learn/datasets/mnist.py:262: extract_images (from tensorflow.contrib.learn.python.learn.datasets.mnist) is deprecated and will be removed in a future version.\n",
            "Instructions for updating:\n",
            "Please use tf.data to implement this functionality.\n",
            "Extracting /tmp/data/train-images-idx3-ubyte.gz\n",
            "WARNING:tensorflow:From /usr/local/lib/python3.6/dist-packages/tensorflow_core/contrib/learn/python/learn/datasets/mnist.py:267: extract_labels (from tensorflow.contrib.learn.python.learn.datasets.mnist) is deprecated and will be removed in a future version.\n",
            "Instructions for updating:\n",
            "Please use tf.data to implement this functionality.\n",
            "Extracting /tmp/data/train-labels-idx1-ubyte.gz\n",
            "WARNING:tensorflow:From /usr/local/lib/python3.6/dist-packages/tensorflow_core/contrib/learn/python/learn/datasets/mnist.py:110: dense_to_one_hot (from tensorflow.contrib.learn.python.learn.datasets.mnist) is deprecated and will be removed in a future version.\n",
            "Instructions for updating:\n",
            "Please use tf.one_hot on tensors.\n",
            "Extracting /tmp/data/t10k-images-idx3-ubyte.gz\n",
            "Extracting /tmp/data/t10k-labels-idx1-ubyte.gz\n",
            "WARNING:tensorflow:From /usr/local/lib/python3.6/dist-packages/tensorflow_core/contrib/learn/python/learn/datasets/mnist.py:290: DataSet.__init__ (from tensorflow.contrib.learn.python.learn.datasets.mnist) is deprecated and will be removed in a future version.\n",
            "Instructions for updating:\n",
            "Please use alternatives such as official/mnist/dataset.py from tensorflow/models.\n"
          ],
          "name": "stdout"
        }
      ]
    },
    {
      "cell_type": "code",
      "metadata": {
        "id": "8xp2Q5zRRzkq",
        "colab_type": "code",
        "outputId": "aef8c15f-b4a1-4eee-9306-a4367ac2eaf5",
        "colab": {
          "base_uri": "https://localhost:8080/",
          "height": 195
        }
      },
      "source": [
        "#ensemble 모델을 위한 클래스 지정\n",
        "\n",
        "class model:\n",
        "  \n",
        "  global_step = tf.Variable(0, trainable=False)\n",
        "  starter_learning_rate = 0.0005\n",
        "  learning_rate = tf.train.exponential_decay(starter_learning_rate, global_step,\n",
        "            20000, 0.96, staircase=True)\n",
        "  is_train = tf.placeholder(tf.bool, name='phase')\n",
        "  keep_prob_dense = tf.placeholder(tf.float32)\n",
        "  keep_prob_conv = tf.placeholder(tf.float32)\n",
        "  num_filters1 = 32\n",
        "  x = tf.placeholder(tf.float32, [None, 784])\n",
        "  x_image = tf.reshape(x, [-1,28,28,1])\n",
        "  #hidden convolutional layer\n",
        "  W_conv1 = tf.Variable(tf.truncated_normal([3,3,1,num_filters1], stddev=0.1))\n",
        "  h_conv1 = tf.nn.conv2d(x_image, W_conv1, strides=[1,1,1,1], padding='SAME')\n",
        "  b_conv1 = tf.Variable(tf.constant(0.1, shape=[num_filters1]))\n",
        "  h_conv1_batchnorm=tf.layers.batch_normalization(h_conv1+b_conv1,training=is_train)\n",
        "  h_conv1_cutoff = tf.nn.relu(h_conv1_batchnorm)\n",
        "  h_pool1 = tf.nn.max_pool(h_conv1_cutoff, ksize=[1,2,2,1],\n",
        "  strides=[1,2,2,1], padding='SAME')\n",
        "  #hidden convolutional layer\n",
        "  num_filters2 = 64\n",
        "  W_conv2 = tf.Variable(\n",
        "  tf.truncated_normal([3,3,num_filters1,num_filters2], stddev=0.1))\n",
        "  h_conv2 = tf.nn.conv2d(h_pool1, W_conv2,\n",
        "  strides=[1,1,1,1], padding='SAME')\n",
        "  b_conv2 = tf.Variable(tf.constant(0.1, shape=[num_filters2]))\n",
        "  h_conv2_batch_norm=tf.layers.batch_normalization(h_conv2+b_conv2, training=is_train)\n",
        "  h_conv2_cutoff = tf.nn.relu(h_conv2_batch_norm)\n",
        "  h_pool2 = tf.nn.max_pool(h_conv2_cutoff, ksize=[1,2,2,1],\n",
        "  strides=[1,2,2,1], padding='SAME')\n",
        "  #hidden convolutional layer\n",
        "  num_filters3 = 128\n",
        "  W_conv3 = tf.Variable(\n",
        "  tf.truncated_normal([3,3,num_filters2,num_filters3], stddev=0.1))\n",
        "  h_conv3 = tf.nn.conv2d(h_pool2, W_conv3,\n",
        "  strides=[1,1,1,1], padding='SAME')\n",
        "  b_conv3= tf.Variable(tf.constant(0.1, shape=[num_filters3]))\n",
        "  h_conv3_batch_norm=tf.layers.batch_normalization(h_conv3+b_conv3, training=is_train)\n",
        "  h_conv3_cutoff = tf.nn.relu(h_conv3_batch_norm)\n",
        "  h_pool3 = tf.nn.max_pool(h_conv3_cutoff, ksize=[1,2,2,1],\n",
        "  strides=[1,1,1,1], padding='SAME')\n",
        "  #dense layer\n",
        "  h_pool2_flat = tf.reshape(h_pool3, [-1, 7*7*num_filters3])\n",
        "  num_units1 = 7*7*num_filters3\n",
        "  num_units2 = 1024\n",
        "  w2 = tf.Variable(tf.truncated_normal([num_units1, num_units2]))\n",
        "  b2 = tf.Variable(tf.constant(0.1, shape=[num_units2]))\n",
        "  hidden2_batch_norm=tf.layers.batch_normalization(tf.matmul(h_pool2_flat, w2) + b2, training=is_train)\n",
        "  hidden2 = tf.nn.relu(hidden2_batch_norm)\n",
        "  keep_prob = tf.placeholder(tf.float32)\n",
        "  hidden2_drop = tf.nn.dropout(hidden2, keep_prob)\n",
        "  w0 = tf.Variable(tf.zeros([num_units2, 10]))\n",
        "  b0 = tf.Variable(tf.zeros([10]))\n",
        "  p = tf.nn.softmax(tf.matmul(hidden2_drop, w0) + b0)\n",
        "  t = tf.placeholder(tf.float32, [None, 10])\n",
        "  loss = -tf.reduce_sum(t * tf.log(p))\n",
        "  #batch normalization에 대한 hyper parameter를 담을 변수\n",
        "  update_ops = tf.get_collection(tf.GraphKeys.UPDATE_OPS)\n",
        "  with tf.control_dependencies(update_ops):\n",
        "    train_step = tf.train.AdamOptimizer(learning_rate).minimize(loss,global_step=global_step)\n",
        "  correct_prediction = tf.equal(tf.argmax(p, 1), tf.argmax(t, 1))\n",
        "  accuracy = tf.reduce_mean(tf.cast(correct_prediction, tf.float32))\n",
        "\n",
        "#network model 생성\n",
        "model_size=15\n",
        "models=list()\n",
        "for i in range(model_size):\n",
        "  models.append(model())\n"
      ],
      "execution_count": 2,
      "outputs": [
        {
          "output_type": "stream",
          "text": [
            "WARNING:tensorflow:From <ipython-input-2-c8d7e750ebd0>:18: batch_normalization (from tensorflow.python.layers.normalization) is deprecated and will be removed in a future version.\n",
            "Instructions for updating:\n",
            "Use keras.layers.BatchNormalization instead.  In particular, `tf.control_dependencies(tf.GraphKeys.UPDATE_OPS)` should not be used (consult the `tf.keras.layers.batch_normalization` documentation).\n",
            "WARNING:tensorflow:From /usr/local/lib/python3.6/dist-packages/tensorflow_core/python/layers/normalization.py:327: Layer.apply (from tensorflow.python.keras.engine.base_layer) is deprecated and will be removed in a future version.\n",
            "Instructions for updating:\n",
            "Please use `layer.__call__` method instead.\n",
            "WARNING:tensorflow:From <ipython-input-2-c8d7e750ebd0>:53: calling dropout (from tensorflow.python.ops.nn_ops) with keep_prob is deprecated and will be removed in a future version.\n",
            "Instructions for updating:\n",
            "Please use `rate` instead of `keep_prob`. Rate should be set to `rate = 1 - keep_prob`.\n"
          ],
          "name": "stdout"
        }
      ]
    },
    {
      "cell_type": "code",
      "metadata": {
        "id": "ZEtcT1qfVNHS",
        "colab_type": "code",
        "outputId": "34576a59-8bf4-45dd-bd67-9260e2ff30ed",
        "colab": {
          "base_uri": "https://localhost:8080/",
          "height": 477
        }
      },
      "source": [
        "\n",
        "sess = tf.InteractiveSession()\n",
        "sess.run(tf.global_variables_initializer())\n",
        "acc=0\n",
        "saver = tf.train.Saver()\n",
        "ckpt_path = saver.save(sess, \"saved/train1\")\n",
        "i = 0\n",
        "for _ in range(20000):\n",
        "  i += 1\n",
        "  #모든 모델에 대해 학습\n",
        "  for i_1 in range(model_size):\n",
        "    batch_xs, batch_ts = mnist.train.next_batch(50)\n",
        "    sess.run(models[i_1].train_step,\n",
        "    feed_dict={models[i_1].x:batch_xs, models[i_1].t:batch_ts, models[i_1].keep_prob:0.5,models[i_1].is_train:True})\n",
        "  #700 epoch 이후부터 한 epoch마다 정확도를 계산하고 가장 정확도가 높을 때, 세션 정보를 저장.\n",
        "  if i > 700:\n",
        "      p_sum=np.zeros([10000,10])\n",
        "      for i_2 in range(model_size):\n",
        "        p=sess.run(models[i_2].p,feed_dict={models[i_2].x:mnist.test.images,\n",
        "        models[i_2].t:mnist.test.labels,\n",
        "        models[i_2].keep_prob:1.0,models[i_1].is_train:False})\n",
        "        p_sum+=p\n",
        "      t=mnist.test.labels\n",
        "      correct_prediction = np.equal(np.argmax(p_sum, 1), np.argmax(t, 1))\n",
        "      acc_val=float(correct_prediction.astype(int).sum())/float(len(correct_prediction))\n",
        "      if(i % 10 == 0):\n",
        "        print ('Step: %d, Accuracy: %f'% (i,acc_val))\n",
        "    #최대 정확도 일 때 세션정보 저장\n",
        "      if(acc_val > acc):\n",
        "        acc=acc_val\n",
        "        print ('Step: %d, Accuracy: %f'% (i,acc_val))\n",
        "        ckpt_path = saver.save(sess, \"saved/train1\",i)\n",
        "        print(ckpt_path)"
      ],
      "execution_count": 3,
      "outputs": [
        {
          "output_type": "stream",
          "text": [
            "Step: 701, Accuracy: 0.990900\n",
            "saved/train1-701\n",
            "Step: 704, Accuracy: 0.992500\n",
            "saved/train1-704\n"
          ],
          "name": "stdout"
        },
        {
          "output_type": "error",
          "ename": "KeyboardInterrupt",
          "evalue": "ignored",
          "traceback": [
            "\u001b[0;31m---------------------------------------------------------------------------\u001b[0m",
            "\u001b[0;31mKeyboardInterrupt\u001b[0m                         Traceback (most recent call last)",
            "\u001b[0;32m<ipython-input-3-32b78c8cc28f>\u001b[0m in \u001b[0;36m<module>\u001b[0;34m()\u001b[0m\n\u001b[1;32m     19\u001b[0m         p=sess.run(models[i_2].p,feed_dict={models[i_2].x:mnist.test.images,\n\u001b[1;32m     20\u001b[0m         \u001b[0mmodels\u001b[0m\u001b[0;34m[\u001b[0m\u001b[0mi_2\u001b[0m\u001b[0;34m]\u001b[0m\u001b[0;34m.\u001b[0m\u001b[0mt\u001b[0m\u001b[0;34m:\u001b[0m\u001b[0mmnist\u001b[0m\u001b[0;34m.\u001b[0m\u001b[0mtest\u001b[0m\u001b[0;34m.\u001b[0m\u001b[0mlabels\u001b[0m\u001b[0;34m,\u001b[0m\u001b[0;34m\u001b[0m\u001b[0;34m\u001b[0m\u001b[0m\n\u001b[0;32m---> 21\u001b[0;31m         models[i_2].keep_prob:1.0,models[i_1].is_train:False})\n\u001b[0m\u001b[1;32m     22\u001b[0m         \u001b[0mp_sum\u001b[0m\u001b[0;34m+=\u001b[0m\u001b[0mp\u001b[0m\u001b[0;34m\u001b[0m\u001b[0;34m\u001b[0m\u001b[0m\n\u001b[1;32m     23\u001b[0m       \u001b[0mt\u001b[0m\u001b[0;34m=\u001b[0m\u001b[0mmnist\u001b[0m\u001b[0;34m.\u001b[0m\u001b[0mtest\u001b[0m\u001b[0;34m.\u001b[0m\u001b[0mlabels\u001b[0m\u001b[0;34m\u001b[0m\u001b[0;34m\u001b[0m\u001b[0m\n",
            "\u001b[0;32m/usr/local/lib/python3.6/dist-packages/tensorflow_core/python/client/session.py\u001b[0m in \u001b[0;36mrun\u001b[0;34m(self, fetches, feed_dict, options, run_metadata)\u001b[0m\n\u001b[1;32m    954\u001b[0m     \u001b[0;32mtry\u001b[0m\u001b[0;34m:\u001b[0m\u001b[0;34m\u001b[0m\u001b[0;34m\u001b[0m\u001b[0m\n\u001b[1;32m    955\u001b[0m       result = self._run(None, fetches, feed_dict, options_ptr,\n\u001b[0;32m--> 956\u001b[0;31m                          run_metadata_ptr)\n\u001b[0m\u001b[1;32m    957\u001b[0m       \u001b[0;32mif\u001b[0m \u001b[0mrun_metadata\u001b[0m\u001b[0;34m:\u001b[0m\u001b[0;34m\u001b[0m\u001b[0;34m\u001b[0m\u001b[0m\n\u001b[1;32m    958\u001b[0m         \u001b[0mproto_data\u001b[0m \u001b[0;34m=\u001b[0m \u001b[0mtf_session\u001b[0m\u001b[0;34m.\u001b[0m\u001b[0mTF_GetBuffer\u001b[0m\u001b[0;34m(\u001b[0m\u001b[0mrun_metadata_ptr\u001b[0m\u001b[0;34m)\u001b[0m\u001b[0;34m\u001b[0m\u001b[0;34m\u001b[0m\u001b[0m\n",
            "\u001b[0;32m/usr/local/lib/python3.6/dist-packages/tensorflow_core/python/client/session.py\u001b[0m in \u001b[0;36m_run\u001b[0;34m(self, handle, fetches, feed_dict, options, run_metadata)\u001b[0m\n\u001b[1;32m   1178\u001b[0m     \u001b[0;32mif\u001b[0m \u001b[0mfinal_fetches\u001b[0m \u001b[0;32mor\u001b[0m \u001b[0mfinal_targets\u001b[0m \u001b[0;32mor\u001b[0m \u001b[0;34m(\u001b[0m\u001b[0mhandle\u001b[0m \u001b[0;32mand\u001b[0m \u001b[0mfeed_dict_tensor\u001b[0m\u001b[0;34m)\u001b[0m\u001b[0;34m:\u001b[0m\u001b[0;34m\u001b[0m\u001b[0;34m\u001b[0m\u001b[0m\n\u001b[1;32m   1179\u001b[0m       results = self._do_run(handle, final_targets, final_fetches,\n\u001b[0;32m-> 1180\u001b[0;31m                              feed_dict_tensor, options, run_metadata)\n\u001b[0m\u001b[1;32m   1181\u001b[0m     \u001b[0;32melse\u001b[0m\u001b[0;34m:\u001b[0m\u001b[0;34m\u001b[0m\u001b[0;34m\u001b[0m\u001b[0m\n\u001b[1;32m   1182\u001b[0m       \u001b[0mresults\u001b[0m \u001b[0;34m=\u001b[0m \u001b[0;34m[\u001b[0m\u001b[0;34m]\u001b[0m\u001b[0;34m\u001b[0m\u001b[0;34m\u001b[0m\u001b[0m\n",
            "\u001b[0;32m/usr/local/lib/python3.6/dist-packages/tensorflow_core/python/client/session.py\u001b[0m in \u001b[0;36m_do_run\u001b[0;34m(self, handle, target_list, fetch_list, feed_dict, options, run_metadata)\u001b[0m\n\u001b[1;32m   1357\u001b[0m     \u001b[0;32mif\u001b[0m \u001b[0mhandle\u001b[0m \u001b[0;32mis\u001b[0m \u001b[0;32mNone\u001b[0m\u001b[0;34m:\u001b[0m\u001b[0;34m\u001b[0m\u001b[0;34m\u001b[0m\u001b[0m\n\u001b[1;32m   1358\u001b[0m       return self._do_call(_run_fn, feeds, fetches, targets, options,\n\u001b[0;32m-> 1359\u001b[0;31m                            run_metadata)\n\u001b[0m\u001b[1;32m   1360\u001b[0m     \u001b[0;32melse\u001b[0m\u001b[0;34m:\u001b[0m\u001b[0;34m\u001b[0m\u001b[0;34m\u001b[0m\u001b[0m\n\u001b[1;32m   1361\u001b[0m       \u001b[0;32mreturn\u001b[0m \u001b[0mself\u001b[0m\u001b[0;34m.\u001b[0m\u001b[0m_do_call\u001b[0m\u001b[0;34m(\u001b[0m\u001b[0m_prun_fn\u001b[0m\u001b[0;34m,\u001b[0m \u001b[0mhandle\u001b[0m\u001b[0;34m,\u001b[0m \u001b[0mfeeds\u001b[0m\u001b[0;34m,\u001b[0m \u001b[0mfetches\u001b[0m\u001b[0;34m)\u001b[0m\u001b[0;34m\u001b[0m\u001b[0;34m\u001b[0m\u001b[0m\n",
            "\u001b[0;32m/usr/local/lib/python3.6/dist-packages/tensorflow_core/python/client/session.py\u001b[0m in \u001b[0;36m_do_call\u001b[0;34m(self, fn, *args)\u001b[0m\n\u001b[1;32m   1363\u001b[0m   \u001b[0;32mdef\u001b[0m \u001b[0m_do_call\u001b[0m\u001b[0;34m(\u001b[0m\u001b[0mself\u001b[0m\u001b[0;34m,\u001b[0m \u001b[0mfn\u001b[0m\u001b[0;34m,\u001b[0m \u001b[0;34m*\u001b[0m\u001b[0margs\u001b[0m\u001b[0;34m)\u001b[0m\u001b[0;34m:\u001b[0m\u001b[0;34m\u001b[0m\u001b[0;34m\u001b[0m\u001b[0m\n\u001b[1;32m   1364\u001b[0m     \u001b[0;32mtry\u001b[0m\u001b[0;34m:\u001b[0m\u001b[0;34m\u001b[0m\u001b[0;34m\u001b[0m\u001b[0m\n\u001b[0;32m-> 1365\u001b[0;31m       \u001b[0;32mreturn\u001b[0m \u001b[0mfn\u001b[0m\u001b[0;34m(\u001b[0m\u001b[0;34m*\u001b[0m\u001b[0margs\u001b[0m\u001b[0;34m)\u001b[0m\u001b[0;34m\u001b[0m\u001b[0;34m\u001b[0m\u001b[0m\n\u001b[0m\u001b[1;32m   1366\u001b[0m     \u001b[0;32mexcept\u001b[0m \u001b[0merrors\u001b[0m\u001b[0;34m.\u001b[0m\u001b[0mOpError\u001b[0m \u001b[0;32mas\u001b[0m \u001b[0me\u001b[0m\u001b[0;34m:\u001b[0m\u001b[0;34m\u001b[0m\u001b[0;34m\u001b[0m\u001b[0m\n\u001b[1;32m   1367\u001b[0m       \u001b[0mmessage\u001b[0m \u001b[0;34m=\u001b[0m \u001b[0mcompat\u001b[0m\u001b[0;34m.\u001b[0m\u001b[0mas_text\u001b[0m\u001b[0;34m(\u001b[0m\u001b[0me\u001b[0m\u001b[0;34m.\u001b[0m\u001b[0mmessage\u001b[0m\u001b[0;34m)\u001b[0m\u001b[0;34m\u001b[0m\u001b[0;34m\u001b[0m\u001b[0m\n",
            "\u001b[0;32m/usr/local/lib/python3.6/dist-packages/tensorflow_core/python/client/session.py\u001b[0m in \u001b[0;36m_run_fn\u001b[0;34m(feed_dict, fetch_list, target_list, options, run_metadata)\u001b[0m\n\u001b[1;32m   1348\u001b[0m       \u001b[0mself\u001b[0m\u001b[0;34m.\u001b[0m\u001b[0m_extend_graph\u001b[0m\u001b[0;34m(\u001b[0m\u001b[0;34m)\u001b[0m\u001b[0;34m\u001b[0m\u001b[0;34m\u001b[0m\u001b[0m\n\u001b[1;32m   1349\u001b[0m       return self._call_tf_sessionrun(options, feed_dict, fetch_list,\n\u001b[0;32m-> 1350\u001b[0;31m                                       target_list, run_metadata)\n\u001b[0m\u001b[1;32m   1351\u001b[0m \u001b[0;34m\u001b[0m\u001b[0m\n\u001b[1;32m   1352\u001b[0m     \u001b[0;32mdef\u001b[0m \u001b[0m_prun_fn\u001b[0m\u001b[0;34m(\u001b[0m\u001b[0mhandle\u001b[0m\u001b[0;34m,\u001b[0m \u001b[0mfeed_dict\u001b[0m\u001b[0;34m,\u001b[0m \u001b[0mfetch_list\u001b[0m\u001b[0;34m)\u001b[0m\u001b[0;34m:\u001b[0m\u001b[0;34m\u001b[0m\u001b[0;34m\u001b[0m\u001b[0m\n",
            "\u001b[0;32m/usr/local/lib/python3.6/dist-packages/tensorflow_core/python/client/session.py\u001b[0m in \u001b[0;36m_call_tf_sessionrun\u001b[0;34m(self, options, feed_dict, fetch_list, target_list, run_metadata)\u001b[0m\n\u001b[1;32m   1441\u001b[0m     return tf_session.TF_SessionRun_wrapper(self._session, options, feed_dict,\n\u001b[1;32m   1442\u001b[0m                                             \u001b[0mfetch_list\u001b[0m\u001b[0;34m,\u001b[0m \u001b[0mtarget_list\u001b[0m\u001b[0;34m,\u001b[0m\u001b[0;34m\u001b[0m\u001b[0;34m\u001b[0m\u001b[0m\n\u001b[0;32m-> 1443\u001b[0;31m                                             run_metadata)\n\u001b[0m\u001b[1;32m   1444\u001b[0m \u001b[0;34m\u001b[0m\u001b[0m\n\u001b[1;32m   1445\u001b[0m   \u001b[0;32mdef\u001b[0m \u001b[0m_call_tf_sessionprun\u001b[0m\u001b[0;34m(\u001b[0m\u001b[0mself\u001b[0m\u001b[0;34m,\u001b[0m \u001b[0mhandle\u001b[0m\u001b[0;34m,\u001b[0m \u001b[0mfeed_dict\u001b[0m\u001b[0;34m,\u001b[0m \u001b[0mfetch_list\u001b[0m\u001b[0;34m)\u001b[0m\u001b[0;34m:\u001b[0m\u001b[0;34m\u001b[0m\u001b[0;34m\u001b[0m\u001b[0m\n",
            "\u001b[0;31mKeyboardInterrupt\u001b[0m: "
          ]
        }
      ]
    },
    {
      "cell_type": "code",
      "metadata": {
        "id": "jafNDg4OZU6m",
        "colab_type": "code",
        "colab": {}
      },
      "source": [
        ""
      ],
      "execution_count": 0,
      "outputs": []
    },
    {
      "cell_type": "code",
      "metadata": {
        "id": "i7GmaI4A-7im",
        "colab_type": "code",
        "outputId": "59aaf13d-d5bb-49f0-dba9-a3ae12d2c89a",
        "colab": {
          "base_uri": "https://localhost:8080/",
          "height": 34
        }
      },
      "source": [
        "#data를 import하기위한 코드\n",
        "from google.colab import drive\n",
        "drive.mount('/content/drive')"
      ],
      "execution_count": 4,
      "outputs": [
        {
          "output_type": "stream",
          "text": [
            "Drive already mounted at /content/drive; to attempt to forcibly remount, call drive.mount(\"/content/drive\", force_remount=True).\n"
          ],
          "name": "stdout"
        }
      ]
    },
    {
      "cell_type": "code",
      "metadata": {
        "id": "28s5nj5n_E8o",
        "colab_type": "code",
        "outputId": "e98333b7-9dff-420f-8824-058345e9358b",
        "colab": {
          "base_uri": "https://localhost:8080/",
          "height": 535
        }
      },
      "source": [
        "#세션 정보를 다시 불러오기 위한 코드\n",
        "sess = tf.InteractiveSession()\n",
        "sess.run(tf.global_variables_initializer())\n",
        "acc=0\n",
        "saver = tf.train.Saver()\n",
        "saver.restore(sess, \"./saved/train1-4251\")\n",
        "\n",
        "#정상적으로 restore가 되었는지 확인하는 코드\n",
        "p_sum=np.zeros([10000,10])\n",
        "for i_2 in range(model_size):\n",
        "  p=sess.run(models[i_2].p,feed_dict={models[i_2].x:mnist.test.images,\n",
        "  models[i_2].t:mnist.test.labels,\n",
        "  models[i_2].keep_prob:1.0,models[i_2].is_train:False})\n",
        "  p_sum+=p\n",
        "t=mnist.test.labels\n",
        "correct_prediction = np.equal(np.argmax(p_sum, 1), np.argmax(t, 1))\n",
        "acc_val=float(correct_prediction.astype(int).sum())/float(len(correct_prediction))\n",
        "print ('Accuracy: %f'% (acc_val))\n",
        "\n",
        "#get data from drive\n",
        "import imageio\n",
        "my_data=np.array(np.zeros([1,28,28]))\n",
        "for i in range(10):\n",
        "  temp=imageio.imread(\"/content/drive/My Drive/%d.png\"%i)\n",
        "  if(i==4):\n",
        "    t_np=np.array(list(temp))\n",
        "    t_np=t_np[:,:,0]+t_np[:,:,1]+t_np[:,:,2]+t_np[:,:,3]\n",
        "    t_np=abs(252-t_np)\n",
        "    for row in range(28):\n",
        "      for col in range(28):\n",
        "        if(t_np[row,col]>30):\n",
        "          t_np[row,col]=1\n",
        "        else:\n",
        "          t_np[row,col]=0\n",
        "  else:\n",
        "    t_np=np.array(list(temp))\n",
        "    t_np=abs(255-t_np)\n",
        "    for row in range(28):\n",
        "      for col in range(28):\n",
        "        if(t_np[row,col]>30):\n",
        "          t_np[row,col]=1\n",
        "        else:\n",
        "          t_np[row,col]=0\n",
        "  t_np=t_np.reshape([1,28,28])\n",
        "  my_data=np.vstack((t_np,my_data))\n",
        "my_data=my_data[:-1]\n",
        "fig = plt.figure(figsize=(10,10))\n",
        "for i in range(10):\n",
        "  subplot = fig.add_subplot(2,5, i+1)\n",
        "  subplot.set_xticks([])\n",
        "  subplot.set_yticks([])\n",
        "  subplot.imshow(my_data[i],\n",
        "  vmin=0, vmax=1,\n",
        "  cmap=plt.cm.gray_r, interpolation='nearest')\n",
        "fig.show()\n",
        "\n",
        "#classify by trained-model\n",
        "p_sum=np.zeros([10,10])\n",
        "my_data=my_data.reshape([10,784])\n",
        "for i_2 in range(model_size):\n",
        "  p_val=sess.run(models[i_2].p,feed_dict={models[i_2].x:my_data,\n",
        "  models[i_2].keep_prob:1.0,models[i_2].is_train:False})\n",
        "  p_sum+=p_val\n",
        "print(\"prediction : %s\"%(np.argmax(p_sum,1)))\n"
      ],
      "execution_count": 5,
      "outputs": [
        {
          "output_type": "stream",
          "text": [
            "/usr/local/lib/python3.6/dist-packages/tensorflow_core/python/client/session.py:1750: UserWarning: An interactive session is already active. This can cause out-of-memory errors in some cases. You must explicitly call `InteractiveSession.close()` to release resources held by the other session(s).\n",
            "  warnings.warn('An interactive session is already active. This can '\n"
          ],
          "name": "stderr"
        },
        {
          "output_type": "stream",
          "text": [
            "INFO:tensorflow:Restoring parameters from ./saved/train1-4251\n",
            "Accuracy: 0.994900\n",
            "prediction : [9 8 7 5 5 4 3 2 1 0]\n"
          ],
          "name": "stdout"
        },
        {
          "output_type": "display_data",
          "data": {
            "image/png": "[encoded data removed]",
            "text/plain": [
              "<Figure size 720x720 with 10 Axes>"
            ]
          },
          "metadata": {
            "tags": []
          }
        }
      ]
    }
  ]
}